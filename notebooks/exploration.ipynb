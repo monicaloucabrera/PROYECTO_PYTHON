{
 "cells": [
  {
   "cell_type": "markdown",
   "metadata": {},
   "source": [
    "import pandas as pd  #importamos panda para manipulacion de datos\n",
    "import matplotlib.pyplot aS plt  #importamos la libreria matplotlib para visualizacion de datos\n",
    "\n",
    "data_path = \"../data/processed/cleaned_products.csv\" #Definimos la ruta del archivo a leer\n",
    "df = pd.read_csv(data_path) #Cargamos los datos del arcchivo en un dataframe\n",
    "\n",
    "# Analisis y visualizacion\n",
    "\n",
    "print(\"Basic Statistics\")\n",
    "print(df.describe())#Mostramos un resumen estasdistico del dataframe\n",
    "\n",
    "# Histograma de precios\n",
    "\n",
    "plt.hist(df[\"price\"], bins=20, edgecolor=\"black\")  #Creamos un histograma de la columna price con 20 barras y bordes negros\n",
    "plt.title(\"Distribución de precios)  #Añadimos un titulo al histograma\n",
    "plt.xlabel(\"Precio\")  #Añadimos una etiqueta el eje X\n",
    "plt.ylabel(\"Fecuencia\")  #Añadimos una etiqueta al eje Y\n",
    "plt.show()  #Mostramos el histograma\n",
    "\n",
    "# Productos mas caros\n",
    "\n",
    "print(\"Productos más caros\")\n",
    "highestPrices= df.nlargest(5,\"price\")\n",
    "print(highestPrices)\n",
    "\n",
    "\n",
    "\n"
   ]
  },
  {
   "cell_type": "markdown",
   "metadata": {},
   "source": []
  },
  {
   "cell_type": "markdown",
   "metadata": {},
   "source": []
  }
 ],
 "metadata": {
  "kernelspec": {
   "display_name": "Python 3",
   "language": "python",
   "name": "python3"
  },
  "language_info": {
   "codemirror_mode": {
    "name": "ipython",
    "version": 3
   },
   "file_extension": ".py",
   "mimetype": "text/x-python",
   "name": "python",
   "nbconvert_exporter": "python",
   "pygments_lexer": "ipython3",
   "version": "3.12.3"
  }
 },
 "nbformat": 4,
 "nbformat_minor": 2
}
